{
 "cells": [
  {
   "cell_type": "markdown",
   "metadata": {},
   "source": [
    "## Visualizing Forest Development in India"
   ]
  },
  {
   "cell_type": "markdown",
   "metadata": {},
   "source": [
    "#### By: Julia Mann and Luca Schmidt"
   ]
  },
  {
   "cell_type": "code",
   "execution_count": null,
   "metadata": {},
   "outputs": [],
   "source": [
    "# imports\n",
    "import pandas as pd\n",
    "import numpy as np\n",
    "import geopandas as gpd\n",
    "import os\n",
    "from scipy import stats\n",
    "\n",
    "# plotting\n",
    "import matplotlib.pyplot as plt\n",
    "import plotly.express as px\n",
    "import seaborn as sns\n",
    "from tueplots import bundles\n"
   ]
  },
  {
   "cell_type": "code",
   "execution_count": null,
   "metadata": {},
   "outputs": [],
   "source": []
  },
  {
   "cell_type": "code",
   "execution_count": null,
   "metadata": {},
   "outputs": [],
   "source": [
    "# set path\n",
    "path = '/Users/majuju/Desktop/Data Literacy/'"
   ]
  },
  {
   "cell_type": "code",
   "execution_count": null,
   "metadata": {},
   "outputs": [],
   "source": [
    "# import forest data and keys\n",
    "forest_data = pd.read_csv(path + 'shrug_vcf_wide.csv')\n",
    "location_id = pd.read_csv(path + 'shrug_pc11_district_key.csv')\n",
    "\n",
    "# import district level shapefiles\n",
    "df1 = gpd.read_file( path + '2011_Dist.shp')"
   ]
  },
  {
   "cell_type": "code",
   "execution_count": null,
   "metadata": {},
   "outputs": [],
   "source": [
    "# transforming district names to lowercase\n",
    "df1['district'] = df1.DISTRICT.str.lower()"
   ]
  },
  {
   "cell_type": "code",
   "execution_count": null,
   "metadata": {},
   "outputs": [],
   "source": [
    "# merge forest data and keys\n",
    "df2 = pd.merge(location_id, forest_data, on=['shrid','shrid'], how='left')\n",
    "df2.head()"
   ]
  },
  {
   "cell_type": "markdown",
   "metadata": {},
   "source": [
    "### Visualizations"
   ]
  },
  {
   "cell_type": "code",
   "execution_count": null,
   "metadata": {},
   "outputs": [],
   "source": [
    "# bar plot of percent forest per state\n",
    "df_state = df2\n",
    "df_state['id'] = df_state.index\n",
    "df_state =  pd.wide_to_long(df_state, ['total_forest', 'max_forest'], i='id', j='year').reset_index()"
   ]
  },
  {
   "cell_type": "code",
   "execution_count": null,
   "metadata": {},
   "outputs": [],
   "source": [
    "# sum total forest coverage by state in year 2019\n",
    "df_state_2019 = df_state[df_state['year'] == 2019]\n",
    "df_state_2019 = df_state_2019.groupby(['pc11_state_name'])[['total_forest','num_cells']].apply(sum).reset_index()\n",
    "df_state_2019['percent'] = df_state_2019['total_forest']/df_state_2019['num_cells']"
   ]
  },
  {
   "cell_type": "code",
   "execution_count": null,
   "metadata": {},
   "outputs": [],
   "source": [
    "plt.figure(figsize=(10,6))\n",
    "\n",
    "# make barplot\n",
    "with plt.rc_context(bundles.neurips2021(usetex=False,family='serif')):\n",
    "    sns.barplot(x='pc11_state_name', \n",
    "            y='percent', \n",
    "            data=df_state_2019,\n",
    "            palette='Greens_r',\n",
    "            order=df_state_2019.sort_values('percent',ascending = False).pc11_state_name)\n",
    "\n",
    "# set labels\n",
    "plt.xlabel(\"State\")\n",
    "plt.ylabel(\"% Forest Coverage\")\n",
    "plt.xticks(rotation=90)\n",
    "plt.tight_layout()\n",
    "plt.savefig('forest_cover_states.pdf', bbox_inches='tight')"
   ]
  },
  {
   "cell_type": "code",
   "execution_count": null,
   "metadata": {},
   "outputs": [],
   "source": [
    "# sum total forest in year 2000\n",
    "df_state_2000 = df_state[df_state['year'] == 2000]\n",
    "df_state_2000 = df_state_2000.groupby(['pc11_state_name'])[['total_forest','num_cells']].apply(sum).reset_index()\n",
    "df_state_2000['percent'] = df_state_2000['total_forest']/df_state_2000['num_cells']\n",
    "\n",
    "# calculate percent change\n",
    "percent_change = ((df_state_2019['percent']-df_state_2000['percent'])/df_state_2000['percent'])*100\n",
    "state_names = df_state_2019['pc11_state_name']\n",
    "state_names = pd.DataFrame(state_names)\n",
    "df_change = state_names.join(percent_change)"
   ]
  },
  {
   "cell_type": "code",
   "execution_count": null,
   "metadata": {},
   "outputs": [],
   "source": [
    "for i in range(35):\n",
    "    # color of bar chart is set to red if the sales \n",
    "    # is < 60000 and green otherwise\n",
    "    df_change['colors'] = ['red' if float(\n",
    "        x) < 0 else 'green' for x in df_change['percent']]\n",
    "  \n",
    " # sort values from lowest to highest\n",
    "df_change.sort_values('percent', inplace=True)\n",
    "  \n",
    "# reset initial index in Dataframe to None\n",
    "df_change.reset_index(inplace=True)\n",
    "\n",
    "\n",
    "# draw plot\n",
    "plt.figure(figsize=(10,6))\n",
    "  \n",
    "# plotting the lines\n",
    "with plt.rc_context(bundles.neurips2021(usetex=False,family='serif')):\n",
    "    plt.vlines(x=df_change.index, ymin=0, ymax=df_change.percent,color=df_change.colors, alpha=0.4, linewidth=5)\n",
    "  \n",
    " # Setting the labels of x-axis and y-axis\n",
    "plt.gca().set(ylabel='% Change Forest Coverage', xlabel='State')\n",
    "  \n",
    "# Setting Date to y-axis\n",
    "plt.xticks(df_change.index, df_change.pc11_state_name, rotation = 90)\n",
    "\n",
    "plt.savefig('percent_change_forest_states.pdf', bbox_inches='tight')"
   ]
  },
  {
   "cell_type": "code",
   "execution_count": null,
   "metadata": {},
   "outputs": [],
   "source": [
    "# linear model\n",
    "df_reg = df2\n",
    "df_reg = df2.groupby(by=['pc11_district_name', 'pc11_district_id']).sum().reset_index()\n",
    "\n",
    "# grouping by year\n",
    "df_reg['id'] = df_reg.index\n",
    "df_reg = pd.wide_to_long(df_reg, ['total_forest', 'max_forest'], i='id', j='year')\n",
    "df_reg = df_reg.reset_index()\n",
    "df_reg['avg_forest'] = df_reg['total_forest']/df_reg['num_cells']\n",
    "\n",
    "df_reg = df_reg.groupby(['year'])[['total_forest', 'max_forest','avg_forest']].apply(sum).reset_index()\n",
    "df_reg['avg_forest'] = df_reg['avg_forest']/622"
   ]
  },
  {
   "cell_type": "code",
   "execution_count": null,
   "metadata": {},
   "outputs": [],
   "source": [
    "# make barplot\n",
    "plt.figure(figsize=(8,5))\n",
    "\n",
    "with plt.rc_context(bundles.neurips2021(usetex=False,family='serif')):\n",
    "    sns.barplot(x='year', y=\"avg_forest\", data=df_reg, color='Green')\n",
    "\n",
    "# set labels\n",
    "plt.xlabel(\"Year\")\n",
    "plt.ylabel(\"% Forest Coverage\")\n",
    "plt.xticks(rotation=45)\n",
    "plt.tight_layout()\n",
    "\n",
    "plt.savefig('percent_forest_per_year.pdf', bbox_inches='tight')"
   ]
  },
  {
   "cell_type": "code",
   "execution_count": null,
   "metadata": {},
   "outputs": [],
   "source": [
    "x = df_reg['year']\n",
    "y = df_reg['avg_forest']\n",
    "res = stats.linregress(x, y)\n",
    "\n",
    "# linear plot\n",
    "plt.figure(figsize=(10,4))\n",
    "\n",
    "with plt.rc_context(bundles.neurips2021(usetex=False,family='serif')):\n",
    "    plt.plot(x, y,'o', label='original data', color='Green')\n",
    "    plt.plot(x, res.intercept + res.slope*x, 'black', label='fitted line')\n",
    "\n",
    "plt.xlabel('Year')\n",
    "plt.ylabel('Forest Coverage')\n",
    "ticks = [y for y in range(2000,2020)]\n",
    "plt.xticks(df_reg['year'], ticks, rotation = 40)\n",
    "\n",
    "plt.legend()\n",
    "plt.show()\n",
    "\n",
    "plt.savefig('forest_cover_trend.pdf', bbox_inches='tight')"
   ]
  },
  {
   "cell_type": "markdown",
   "metadata": {},
   "source": [
    "## Choropleth"
   ]
  },
  {
   "cell_type": "code",
   "execution_count": null,
   "metadata": {},
   "outputs": [],
   "source": [
    "# convert wide to long format\n",
    "df2['id'] = df2.index\n",
    "df2 = pd.wide_to_long(df2, ['total_forest', 'max_forest'], i='id', j='year')\n",
    "df2 = df2.reset_index()"
   ]
  },
  {
   "cell_type": "code",
   "execution_count": null,
   "metadata": {},
   "outputs": [],
   "source": [
    "from datetime import datetime, timedelta\n",
    "import geopandas as gpd\n",
    "import json\n",
    "import plotly.express as px\n",
    "from dateutil.relativedelta import relativedelta\n",
    "\n",
    "\n",
    "#reading the shape file \n",
    "map_df = gpd.read_file('/Users/majuju/Downloads/Census_2011/2011_Dist.shp')\n",
    "#Export it as GeoJSON\n",
    "map_df.to_file(\"json_files\\\\India_Districts.json\", driver='GeoJSON')"
   ]
  },
  {
   "cell_type": "code",
   "execution_count": null,
   "metadata": {},
   "outputs": [],
   "source": [
    "with open('json_files\\\\India_Districts.json') as f:\n",
    "      India_districts = json.load(f)"
   ]
  },
  {
   "cell_type": "code",
   "execution_count": null,
   "metadata": {},
   "outputs": [],
   "source": [
    "#Check the keys of the json\n",
    "print(India_districts[\"features\"][0].keys())\n",
    "print(India_districts[\"features\"][0]['properties'].keys())"
   ]
  },
  {
   "cell_type": "code",
   "execution_count": null,
   "metadata": {},
   "outputs": [],
   "source": [
    "India_districts[\"features\"][0]['geometry']['coordinates'][0][0]"
   ]
  },
  {
   "cell_type": "code",
   "execution_count": null,
   "metadata": {},
   "outputs": [],
   "source": [
    "#Round off the locations to 2 decimal places (about 1.1 km accuracy)\n",
    "for i in range(0, len(India_districts[\"features\"])):\n",
    "    for j in range(0,len(India_districts[\"features\"][i]['geometry']['coordinates'])):\n",
    "        try:\n",
    "            India_districts[\"features\"][i]['geometry']['coordinates'][j] = np.round(np.array(India_districts[\"features\"][i]['geometry']['coordinates'][j]),2)\n",
    "        except:\n",
    "            print(i,j)\n",
    "            \n",
    "#rounded off location data           \n",
    "#print(India_districts[\"features\"][0]['geometry']['coordinates'][0][0])\n",
    "#print(India_districts[\"features\"][0])"
   ]
  },
  {
   "cell_type": "code",
   "execution_count": null,
   "metadata": {},
   "outputs": [],
   "source": [
    "India_districts[\"features\"][0]['geometry']['coordinates'][0][0]"
   ]
  },
  {
   "cell_type": "code",
   "execution_count": null,
   "metadata": {},
   "outputs": [],
   "source": [
    "# convert year to datetime\n",
    "df2['year'] = pd.to_datetime(df2.year, format='%Y')\n"
   ]
  },
  {
   "cell_type": "code",
   "execution_count": null,
   "metadata": {},
   "outputs": [],
   "source": [
    "df_d = map_df[['DISTRICT']]\n"
   ]
  },
  {
   "cell_type": "code",
   "execution_count": null,
   "metadata": {},
   "outputs": [],
   "source": [
    "df_d['DISTRICT'] = df_d.DISTRICT.str.lower()\n",
    "\n",
    "\n",
    "# dic of unmatched districts \n",
    "dic = {'bauda':'baudh', 'chamrajnagar':'chamarajanagar', 'dadra nagar haveli':'dadra nagar haveli', 'garhchiroli': 'gadchiroli', 'janjgir-champa': 'janjgir champa',  'kaimur (bhabua)': 'kaimur bhabua', 'kansiram nagar': 'kanshiram nagar', 'lahul & spiti':'lahul spiti',  'lawangtlai': 'lawngtlai', \n",
    " 'leh (ladakh)': 'leh ladakh', 'maharajganj': 'mahrajganj', 'marigaon': 'morigaon', 'nagappattinam': 'nagapattinam',  'nicobar': 'nicobars','north & middle andaman': 'north middle andaman',  'north 24 parganas': 'north twenty four parganas', 'pashchim medinipur': 'paschim medinipur',  'ri bhoi': ' ribhoi', \n",
    "'sant ravi das nagar(bhadohi)': 'sant ravidas nagar bhadohi', 'saraikela-kharsawan': 'saraikela kharsawan', 'saran (chhapra)': 'saran', 'siddharth nagar' :  'siddharthnagar','south 24 parganas': 'south twenty four parganas', 'virudunagar' : ' virudhunagar'\n",
    ", 'west': 'west district', 'east': 'east district', 'north': 'north district', 'south': 'south district'}\n",
    "\n",
    "# assimilate district names\n",
    "for key in dic.keys():\n",
    "    df_d['DISTRICT'] = df_d['DISTRICT'].replace(key, dic[key])\n",
    "    \n"
   ]
  },
  {
   "cell_type": "code",
   "execution_count": null,
   "metadata": {},
   "outputs": [],
   "source": [
    "# smallest year\n",
    "date_min = df2['year'].min()\n",
    "\n",
    "# create dataframe for district, variable of interest and year\n",
    "date_min = df2['year'].min()\n",
    "df_final = pd.DataFrame(columns=['DISTRICT','forest','date'])\n",
    "\n",
    "# create subset of df for each year\n",
    "for i in range(0,20):\n",
    "    date = date_min + relativedelta(years=i)\n",
    "    df_c = df2[df2['year'] == date]\n",
    "    \n",
    "    \n",
    "    # temporary df to store the values\n",
    "    df_c = df_c.groupby(['pc11_district_name'])['total_forest', 'num_cells'].sum().reset_index()\n",
    "    df_c['forest'] = df_c['total_forest']/df_c['num_cells']\n",
    "    \n",
    "    df_t = df_c[['pc11_district_name', 'forest']]\n",
    "    merged = df_d.set_index('DISTRICT').join(df_t.set_index('pc11_district_name'))\n",
    "    \n",
    "    merged['forest'].fillna(0,inplace=True)\n",
    "    merged = merged.reset_index()\n",
    " \n",
    "    merged['date'] = date\n",
    "    merged['DISTRICT']= merged['index']\n",
    "    merged = merged.drop('index',1)\n",
    "    \n",
    "    df_final = pd.concat([df_final, merged], ignore_index = True)\n",
    "    \n",
    "df_final['dt_str'] = df_final['date'].apply(lambda x: x.strftime(\"%Y\"))\n"
   ]
  },
  {
   "cell_type": "code",
   "execution_count": null,
   "metadata": {},
   "outputs": [],
   "source": [
    "# capitalize for matching purposes\n",
    "df_final['DISTRICT'] = df_final.DISTRICT.str.capitalize()\n"
   ]
  },
  {
   "cell_type": "code",
   "execution_count": null,
   "metadata": {},
   "outputs": [],
   "source": [
    "\n",
    "max_count = df_final['forest'].max()\n",
    "fig = px.choropleth_mapbox(df_final, geojson = India_districts,\n",
    "                      locations='DISTRICT', \n",
    "                      color= df_final['forest'],\n",
    "                      color_continuous_scale=\"Greens\",\n",
    "                      range_color=(0, max_count),\n",
    "                      featureidkey=\"properties.DISTRICT\",\n",
    "                      mapbox_style=\"carto-positron\",\n",
    "                      opacity = 0.5,\n",
    "                      center = {\"lat\": 26.8467, \"lon\": 80.9462}, \n",
    "                      zoom = 4,\n",
    "                      animation_frame='dt_str')\n",
    "\n",
    "fig.update_geos(fitbounds=\"locations\",visible=False)\n",
    "fig.update_layout(margin={\"r\":0,\"t\":0,\"l\":0,\"b\":0},)\n",
    "\n",
    "fig.show()\n",
    "\n",
    "\n"
   ]
  },
  {
   "cell_type": "code",
   "execution_count": null,
   "metadata": {},
   "outputs": [],
   "source": [
    "fig.write_html('html_files\\\\plotly_mapbox_choro.html')"
   ]
  },
  {
   "cell_type": "code",
   "execution_count": null,
   "metadata": {},
   "outputs": [],
   "source": []
  }
 ],
 "metadata": {
  "kernelspec": {
   "display_name": "Python 3",
   "language": "python",
   "name": "python3"
  },
  "language_info": {
   "codemirror_mode": {
    "name": "ipython",
    "version": 3
   },
   "file_extension": ".py",
   "mimetype": "text/x-python",
   "name": "python",
   "nbconvert_exporter": "python",
   "pygments_lexer": "ipython3",
   "version": "3.7.9"
  }
 },
 "nbformat": 4,
 "nbformat_minor": 4
}
